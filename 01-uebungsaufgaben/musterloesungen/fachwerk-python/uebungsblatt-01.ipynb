{
 "cells": [
  {
   "cell_type": "markdown",
   "metadata": {},
   "source": [
    "# Übungsblatt 1: Stabendkräfte und Elementsteifigkeitsmatrix"
   ]
  },
  {
   "cell_type": "code",
   "execution_count": 1,
   "metadata": {},
   "outputs": [],
   "source": [
    "%load_ext autoreload\n",
    "%autoreload 2\n",
    "\n",
    "import numpy as np"
   ]
  },
  {
   "cell_type": "markdown",
   "metadata": {},
   "source": [
    "## Aufgabe 2"
   ]
  },
  {
   "cell_type": "code",
   "execution_count": 2,
   "metadata": {},
   "outputs": [],
   "source": [
    "EA = 42000\n",
    "x1 = np.array([1,0])\n",
    "x2 = np.array([4,4])\n",
    "l0 = 5\n",
    "\n",
    "u1 = np.array([0.1, 0.05])\n",
    "u2 = np.array([0.14,0.09])\n",
    "v1 = np.array([-1, 0])\n",
    "v2 = np.array([1, -4])"
   ]
  },
  {
   "cell_type": "markdown",
   "metadata": {},
   "source": [
    "### 2.1 Stabendkräfte exakt"
   ]
  },
  {
   "cell_type": "markdown",
   "metadata": {},
   "source": [
    "Verschiebung $u$"
   ]
  },
  {
   "cell_type": "code",
   "execution_count": 3,
   "metadata": {},
   "outputs": [
    {
     "name": "stdout",
     "output_type": "stream",
     "text": [
      "N =  470.45316452368405\n",
      "P =  [ 282.86705496  375.9154283  -282.86705496 -375.9154283 ]\n"
     ]
    }
   ],
   "source": [
    "l = np.linalg.norm(x1 + u1 - (x2 + u2))\n",
    "N = EA * (l - l0) / l0\n",
    "d = (x1 + u1 - (x2 + u2)) / l\n",
    "t = np.concatenate((-d, d))\n",
    "P = N * t\n",
    "\n",
    "print(\"N = \", N)\n",
    "print(\"P = \", P)"
   ]
  },
  {
   "cell_type": "markdown",
   "metadata": {},
   "source": [
    "Verschiebung $v$"
   ]
  },
  {
   "cell_type": "code",
   "execution_count": 4,
   "metadata": {},
   "outputs": [
    {
     "name": "stdout",
     "output_type": "stream",
     "text": [
      "N =  0.0\n",
      "P =  [ 0.  0. -0. -0.]\n"
     ]
    }
   ],
   "source": [
    "l = np.linalg.norm(x1 + v1 - (x2 + v2))\n",
    "N = EA * (l - l0) / l0\n",
    "d = (x1 + u1 - (x2 + u2)) / l\n",
    "t = np.concatenate((-d, d))\n",
    "P = N * t\n",
    "\n",
    "print(\"N = \", N)\n",
    "print(\"P = \", P)"
   ]
  },
  {
   "cell_type": "markdown",
   "metadata": {},
   "source": [
    "### 2.2 Elementsteifigkeitsmatrix"
   ]
  },
  {
   "cell_type": "code",
   "execution_count": 5,
   "metadata": {},
   "outputs": [
    {
     "name": "stdout",
     "output_type": "stream",
     "text": [
      "K =  [[ 3024.  4032. -3024. -4032.]\n",
      " [ 4032.  5376. -4032. -5376.]\n",
      " [-3024. -4032.  3024.  4032.]\n",
      " [-4032. -5376.  4032.  5376.]]\n"
     ]
    }
   ],
   "source": [
    "t0 = np.array([-0.6, -0.8, 0.6, 0.8])\n",
    "K = EA / l0 * np.outer(t0, t0)\n",
    "\n",
    "print(\"K = \", K)"
   ]
  },
  {
   "cell_type": "markdown",
   "metadata": {},
   "source": [
    "### 2.3 Stabendkräfte linearisiert"
   ]
  },
  {
   "cell_type": "code",
   "execution_count": 6,
   "metadata": {},
   "outputs": [
    {
     "name": "stdout",
     "output_type": "stream",
     "text": [
      "Pu =  [-282.24 -376.32  282.24  376.32]\n",
      "Pv =  [ 10080.  13440. -10080. -13440.]\n"
     ]
    }
   ],
   "source": [
    "u = np.concatenate((u1,u2))\n",
    "v = np.concatenate((v1,v2))\n",
    "\n",
    "print(\"Pu = \", K @ u)\n",
    "print(\"Pv = \", K @ v)"
   ]
  },
  {
   "cell_type": "markdown",
   "metadata": {},
   "source": [
    "## Aufgabe 4 "
   ]
  },
  {
   "cell_type": "code",
   "execution_count": 7,
   "metadata": {},
   "outputs": [],
   "source": [
    "from truss import *"
   ]
  },
  {
   "cell_type": "markdown",
   "metadata": {},
   "source": [
    "Test for $u$"
   ]
  },
  {
   "cell_type": "code",
   "execution_count": 8,
   "metadata": {},
   "outputs": [
    {
     "name": "stdout",
     "output_type": "stream",
     "text": [
      "P =  [-282.86705496 -375.9154283   282.86705496  375.9154283 ]  (exakt)\n",
      "K =\n",
      " [[ 3024.  4032. -3024. -4032.]\n",
      " [ 4032.  5376. -4032. -5376.]\n",
      " [-3024. -4032.  3024.  4032.]\n",
      " [-4032. -5376.  4032.  5376.]]\n",
      "N =  470.40000000000003  (linearisiert)\n",
      "P =  [-282.24 -376.32  282.24  376.32]  (linearisiert)\n"
     ]
    }
   ],
   "source": [
    "P = truss_p(EA, x1, x2, u1, u2)\n",
    "K = truss_ke(EA, x1, x2)\n",
    "NL = truss_n(EA, x1, x2, u1, u2)\n",
    "PL = truss_p_lin(EA, x1, x2, u1, u2)\n",
    "\n",
    "print(\"P = \", P, \" (exakt)\")\n",
    "print(\"K =\\n\", K)\n",
    "print(\"N = \", NL, \" (linearisiert)\")\n",
    "print(\"P = \", PL, \" (linearisiert)\")"
   ]
  },
  {
   "cell_type": "markdown",
   "metadata": {},
   "source": [
    "Test for $v$"
   ]
  },
  {
   "cell_type": "code",
   "execution_count": 9,
   "metadata": {},
   "outputs": [
    {
     "name": "stdout",
     "output_type": "stream",
     "text": [
      "P =  [-0. -0.  0.  0.]  (exakt)\n",
      "P =  [ 10080.  13440. -10080. -13440.]  (linearisiert)\n"
     ]
    }
   ],
   "source": [
    "P = truss_p(EA, x1, x2, v1, v2)\n",
    "PL = truss_p_lin(EA, x1, x2, v1, v2)\n",
    "\n",
    "print(\"P = \", P, \" (exakt)\")\n",
    "print(\"P = \", PL, \" (linearisiert)\")"
   ]
  }
 ],
 "metadata": {
  "kernelspec": {
   "display_name": "global-venv",
   "language": "python",
   "name": "python3"
  },
  "language_info": {
   "codemirror_mode": {
    "name": "ipython",
    "version": 3
   },
   "file_extension": ".py",
   "mimetype": "text/x-python",
   "name": "python",
   "nbconvert_exporter": "python",
   "pygments_lexer": "ipython3",
   "version": "3.12.3"
  }
 },
 "nbformat": 4,
 "nbformat_minor": 2
}
