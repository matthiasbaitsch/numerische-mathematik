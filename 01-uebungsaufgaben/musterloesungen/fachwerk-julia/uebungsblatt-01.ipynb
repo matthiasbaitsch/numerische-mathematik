{
 "cells": [
  {
   "cell_type": "markdown",
   "metadata": {},
   "source": [
    "# Übungsblatt 1"
   ]
  },
  {
   "cell_type": "code",
   "execution_count": 57,
   "metadata": {},
   "outputs": [],
   "source": [
    "using CairoMakie\n",
    "using LinearAlgebra"
   ]
  },
  {
   "cell_type": "markdown",
   "metadata": {},
   "source": [
    "## Aufgabe 2"
   ]
  },
  {
   "cell_type": "code",
   "execution_count": 58,
   "metadata": {},
   "outputs": [],
   "source": [
    "EA = 42000\n",
    "x1 = [1,0]\n",
    "x2 = [4,4]\n",
    "l0 = 5\n",
    "\n",
    "u1 = [0.1, 0.05]\n",
    "u2 = [0.14,0.09]\n",
    "v1 = [-1, 0]\n",
    "v2 = [1, -4];"
   ]
  },
  {
   "cell_type": "markdown",
   "metadata": {},
   "source": [
    "### 2.1 Stabendkräfte exakt"
   ]
  },
  {
   "cell_type": "markdown",
   "metadata": {},
   "source": [
    "Verschiebung $u$"
   ]
  },
  {
   "cell_type": "code",
   "execution_count": 59,
   "metadata": {},
   "outputs": [
    {
     "name": "stdout",
     "output_type": "stream",
     "text": [
      "N = 470.45316452368405\n",
      "P = [282.8670549555585, 375.91542829620283, -282.8670549555585, -375.91542829620283]\n"
     ]
    }
   ],
   "source": [
    "l = norm(x1 + u1 - (x2 + u2))\n",
    "N = EA * (l - l0) / l0\n",
    "d = (x1 + u1 - (x2 + u2)) / l\n",
    "t = vcat(-d, d)\n",
    "P = N * t\n",
    "\n",
    "println(\"N = \", N)\n",
    "println(\"P = \", P)"
   ]
  },
  {
   "cell_type": "markdown",
   "metadata": {},
   "source": [
    "Verschiebung $v$"
   ]
  },
  {
   "cell_type": "code",
   "execution_count": 60,
   "metadata": {},
   "outputs": [
    {
     "name": "stdout",
     "output_type": "stream",
     "text": [
      "N = 0.0\n",
      "P = [0.0, 0.0, -0.0, -0.0]\n"
     ]
    }
   ],
   "source": [
    "l = norm(x1 + v1 - (x2 + v2))\n",
    "N = EA * (l - l0) / l0\n",
    "d = (x1 + u1 - (x2 + u2)) / l\n",
    "t = vcat(-d, d)\n",
    "P = N * t\n",
    "\n",
    "println(\"N = \", N)\n",
    "println(\"P = \", P)"
   ]
  },
  {
   "cell_type": "markdown",
   "metadata": {},
   "source": [
    "### 2.2 Elementsteifigkeitsmatrix"
   ]
  },
  {
   "cell_type": "code",
   "execution_count": 61,
   "metadata": {},
   "outputs": [
    {
     "data": {
      "text/plain": [
       "4×4 Matrix{Float64}:\n",
       "  3024.0   4032.0  -3024.0  -4032.0\n",
       "  4032.0   5376.0  -4032.0  -5376.0\n",
       " -3024.0  -4032.0   3024.0   4032.0\n",
       " -4032.0  -5376.0   4032.0   5376.0"
      ]
     },
     "metadata": {},
     "output_type": "display_data"
    }
   ],
   "source": [
    "t0 = [-0.6, -0.8, 0.6, 0.8]\n",
    "K = EA / l0 * t0 * t0'"
   ]
  },
  {
   "cell_type": "markdown",
   "metadata": {},
   "source": [
    "### 2.3 Stabendkräfte linearisiert"
   ]
  },
  {
   "cell_type": "code",
   "execution_count": 62,
   "metadata": {},
   "outputs": [
    {
     "name": "stdout",
     "output_type": "stream",
     "text": [
      "Pu = [-282.23999999999995, -376.31999999999994, 282.23999999999995, 376.31999999999994]\n",
      "Pv = [10080.0, 13440.0, -10080.0, -13440.0]\n"
     ]
    }
   ],
   "source": [
    "u = vcat(u1, u2)\n",
    "v = vcat(v1, v2)\n",
    "\n",
    "println(\"Pu = \", K * u)\n",
    "println(\"Pv = \", K * v)"
   ]
  },
  {
   "cell_type": "markdown",
   "metadata": {},
   "source": [
    "## Aufgabe 4 "
   ]
  },
  {
   "cell_type": "code",
   "execution_count": 63,
   "metadata": {},
   "outputs": [
    {
     "data": {
      "text/plain": [
       "trussPL (generic function with 1 method)"
      ]
     },
     "metadata": {},
     "output_type": "display_data"
    }
   ],
   "source": [
    "include(\"truss.jl\")"
   ]
  },
  {
   "cell_type": "markdown",
   "metadata": {},
   "source": [
    "Test for $u$"
   ]
  },
  {
   "cell_type": "code",
   "execution_count": 68,
   "metadata": {},
   "outputs": [
    {
     "name": "stdout",
     "output_type": "stream",
     "text": [
      "P = [-282.8670549555585, -375.9154282962028, 282.8670549555585, 375.9154282962028] (exakt)\n",
      "K = [-3064.3199999999993 -4072.32 3064.3199999999993 4072.32; -4085.7599999999993 -5429.76 4085.7599999999993 5429.76; 3064.3199999999993 4072.32 -3064.3199999999993 -4072.32; 4085.7599999999993 5429.76 -4085.7599999999993 -5429.76]\n",
      "N = 470.4 (linearisiert)\n",
      "P = [285.46559999999994, 380.6208, -285.46559999999994, -380.6208] (linearisiert)\n"
     ]
    }
   ],
   "source": [
    "P = truss_p(EA, x1, x2, u1, u2)\n",
    "K = truss_k(EA, x1, x2)\n",
    "NL = truss_n(EA, x1, x2, u1, u2)\n",
    "PL = truss_p_lin(EA, x1, x2, u1, u2)\n",
    "\n",
    "println(\"P = \", P, \" (exakt)\")\n",
    "println(\"K = \", K)\n",
    "println(\"N = \", NL, \" (linearisiert)\")\n",
    "println(\"P = \", PL, \" (linearisiert)\")"
   ]
  },
  {
   "cell_type": "markdown",
   "metadata": {},
   "source": [
    "Test for $v$"
   ]
  },
  {
   "cell_type": "code",
   "execution_count": 69,
   "metadata": {},
   "outputs": [
    {
     "name": "stdout",
     "output_type": "stream",
     "text": [
      "P = [-0.0, -0.0, 0.0, 0.0] (exakt)\n",
      "P = [-10160.640000000003, -13547.520000000002, 10160.640000000003, 13547.520000000002] (linearisiert)\n"
     ]
    }
   ],
   "source": [
    "P = truss_p(EA, x1, x2, v1, v2)\n",
    "PL = truss_p_lin(EA, x1, x2, v1, v2)\n",
    "\n",
    "println(\"P = \", P, \" (exakt)\")\n",
    "println(\"P = \", PL, \" (linearisiert)\")"
   ]
  }
 ],
 "metadata": {
  "kernelspec": {
   "display_name": "Julia 1.10.5",
   "language": "julia",
   "name": "julia-1.10"
  },
  "language_info": {
   "file_extension": ".jl",
   "mimetype": "application/julia",
   "name": "julia",
   "version": "1.10.5"
  }
 },
 "nbformat": 4,
 "nbformat_minor": 2
}
